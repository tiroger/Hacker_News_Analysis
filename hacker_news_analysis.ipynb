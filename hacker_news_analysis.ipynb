{
 "cells": [
  {
   "cell_type": "markdown",
   "metadata": {},
   "source": [
    "# Hacker News Post Analysis\n",
    "\n",
    "In this project, we want to compare two different types of posts from Hacker News: \n",
    "\n",
    "- Ask HN\n",
    "- Show HN\n",
    "\n",
    "For \"Ask HN\" posts, users submit questions to the Hacker News community, such as \"What is the best online course you've ever taken?\" Likewise, for \"Show HN\", users post to show the Hacker News community a project, product, or just generally something they find interesting.\n",
    "\n",
    "We want to compare these two types of posts to determine the following:\n",
    "\n",
    "1. Do Ask HN or Show HN receive more comments on average?\n",
    "\n",
    "2. Do posts created at a certain time receive more comments on average?"
   ]
  },
  {
   "cell_type": "code",
   "execution_count": 3,
   "metadata": {},
   "outputs": [],
   "source": [
    "# Importing csv module\n",
    "import csv\n",
    "import numpy as np\n",
    "import matplotlib.pyplot as plt\n",
    "\n",
    "# Opening and reading csv file\n",
    "with open('Data/HN_posts_year_to_Sep_26_2016.csv', 'r') as open_csv:\n",
    "    hn_read = csv.reader(open_csv, delimiter=\",\")\n",
    "    # Removing headers\n",
    "    hn_header = next(hn_read)\n",
    "    # Creating a list containing all the data\n",
    "    hn_data = list(hn_read)"
   ]
  },
  {
   "cell_type": "code",
   "execution_count": 4,
   "metadata": {},
   "outputs": [],
   "source": [
    "# To make it easier to read, we'll use the following function:\n",
    "def explore_data(dataset, start, end, rows_and_columns=True):\n",
    "    dataset_slice = dataset[start:end]    \n",
    "    for row in dataset_slice:\n",
    "        print(row)\n",
    "        print('\\n') # adds a new (empty) line after each row\n",
    "\n",
    "    if rows_and_columns:\n",
    "        print('Number of rows:', len(dataset))\n",
    "        print('Number of columns:', len(dataset[0]))\n"
   ]
  },
  {
   "cell_type": "code",
   "execution_count": 5,
   "metadata": {},
   "outputs": [
    {
     "name": "stdout",
     "output_type": "stream",
     "text": [
      "['id', 'title', 'url', 'num_points', 'num_comments', 'author', 'created_at']\n",
      "\n",
      "\n",
      "['12579008', 'You have two days to comment if you want stem cells to be classified as your own', 'http://www.regulations.gov/document?D=FDA-2015-D-3719-0018', '1', '0', 'altstar', '9/26/2016 3:26']\n",
      "\n",
      "\n",
      "['12579005', 'SQLAR  the SQLite Archiver', 'https://www.sqlite.org/sqlar/doc/trunk/README.md', '1', '0', 'blacksqr', '9/26/2016 3:24']\n",
      "\n",
      "\n",
      "['12578997', 'What if we just printed a flatscreen television on the side of our boxes?', 'https://medium.com/vanmoof/our-secrets-out-f21c1f03fdc8#.ietxmez43', '1', '0', 'pavel_lishin', '9/26/2016 3:19']\n",
      "\n",
      "\n",
      "['12578989', 'algorithmic music', 'http://cacm.acm.org/magazines/2011/7/109891-algorithmic-composition/fulltext', '1', '0', 'poindontcare', '9/26/2016 3:16']\n",
      "\n",
      "\n",
      "['12578979', 'How the Data Vault Enables the Next-Gen Data Warehouse and Data Lake', 'https://www.talend.com/blog/2016/05/12/talend-and-Â\\x93the-data-vaultÂ\\x94', '1', '0', 'markgainor1', '9/26/2016 3:14']\n",
      "\n",
      "\n",
      "Number of rows: 293119\n",
      "Number of columns: 7\n"
     ]
    }
   ],
   "source": [
    "print(hn_header)\n",
    "print('\\n')\n",
    "explore_data(hn_data, 0, 5)"
   ]
  },
  {
   "cell_type": "markdown",
   "metadata": {},
   "source": [
    "## Data Cleaning\n",
    "\n",
    "###### Removing posts without user comments\n",
    "\n",
    "Since we're intesrted in analyzing comments, we have to remove posts which do not include comments from the community. "
   ]
  },
  {
   "cell_type": "code",
   "execution_count": 339,
   "metadata": {},
   "outputs": [],
   "source": [
    "# Let's remove rows without user comments\n",
    "hn_data_with_comments = []\n",
    "\n",
    "for row in hn_data:\n",
    "    comment = int(row[4])\n",
    "    if comment != 0:\n",
    "        hn_data_with_comments.append(row)\n",
    "\n",
    "comment_rows = len(hn_data_with_comments)\n",
    "all_rows = len(hn_data)"
   ]
  },
  {
   "cell_type": "code",
   "execution_count": 340,
   "metadata": {},
   "outputs": [
    {
     "name": "stdout",
     "output_type": "stream",
     "text": [
      "The data now contains 80401 rows compared to 293119 initially\n"
     ]
    }
   ],
   "source": [
    "print(f'The data now contains {comment_rows} rows compared to {all_rows} initially')"
   ]
  },
  {
   "cell_type": "code",
   "execution_count": 341,
   "metadata": {},
   "outputs": [
    {
     "name": "stdout",
     "output_type": "stream",
     "text": [
      "['id', 'title', 'url', 'num_points', 'num_comments', 'author', 'created_at']\n",
      "\n",
      "\n",
      "['12578975', 'Saving the Hassle of Shopping', 'https://blog.menswr.com/2016/09/07/whats-new-with-your-style-feed/', '1', '1', 'bdoux', '9/26/2016 3:13']\n",
      "\n",
      "\n",
      "['12578908', 'Ask HN: What TLD do you use for local development?', '', '4', '7', 'Sevrene', '9/26/2016 2:53']\n",
      "\n",
      "\n",
      "['12578822', 'Amazons Algorithms Dont Find You the Best Deals', 'https://www.technologyreview.com/s/602442/amazons-algorithms-dont-find-you-the-best-deals/', '1', '1', 'yarapavan', '9/26/2016 2:26']\n",
      "\n",
      "\n",
      "['12578694', 'Emergency dose of epinephrine that does not cost an arm and a leg', 'http://m.imgur.com/gallery/th6Ua', '2', '1', 'dredmorbius', '9/26/2016 1:54']\n",
      "\n",
      "\n",
      "['12578624', 'Phone Makers Could Cut Off Drivers. So Why Dont They?', 'http://www.nytimes.com/2016/09/25/technology/phone-makers-could-cut-off-drivers-so-why-dont-they.html', '4', '1', 'danso', '9/26/2016 1:37']\n",
      "\n",
      "\n",
      "Number of rows: 80401\n",
      "Number of columns: 7\n"
     ]
    }
   ],
   "source": [
    "print(hn_header)\n",
    "print('\\n')\n",
    "explore_data(hn_data_with_comments, 0, 5)"
   ]
  },
  {
   "cell_type": "markdown",
   "metadata": {},
   "source": [
    "###### Isolating posts starting with either \"Ask HN\" or \"Show HN\"\n",
    "\n",
    "Since we're intesrted in analyzing comments, we have to remove posts which do not include comments from the community. "
   ]
  },
  {
   "cell_type": "code",
   "execution_count": 342,
   "metadata": {},
   "outputs": [
    {
     "name": "stdout",
     "output_type": "stream",
     "text": [
      "6899\n",
      "5052\n",
      "68450\n"
     ]
    }
   ],
   "source": [
    "# Creating lists to contain posts that start with either \"Ask HN\" or \"Show HN\" or neither\n",
    "ask_posts = []\n",
    "show_posts = []\n",
    "other_posts = []\n",
    "\n",
    "# Iterating through the rows to find posts that start with each string above\n",
    "for i in range(len(hn_data_with_comments)):\n",
    "    post = hn_data_with_comments[i][1]\n",
    "    ask = 'Ask HN'\n",
    "    show = 'Show HN'\n",
    "    \n",
    "    if post.startswith(ask):\n",
    "        ask_posts.append(hn_data_with_comments[i])\n",
    "    elif post.startswith(show):\n",
    "        show_posts.append(hn_data_with_comments[i])\n",
    "    else:\n",
    "        other_posts.append(hn_data_with_comments[i])\n",
    "\n",
    "print(len(ask_posts))\n",
    "print(len(show_posts))\n",
    "print(len(other_posts))"
   ]
  },
  {
   "cell_type": "code",
   "execution_count": 343,
   "metadata": {},
   "outputs": [
    {
     "name": "stdout",
     "output_type": "stream",
     "text": [
      "['id', 'title', 'url', 'num_points', 'num_comments', 'author', 'created_at']\n",
      "\n",
      "\n",
      "['12578908', 'Ask HN: What TLD do you use for local development?', '', '4', '7', 'Sevrene', '9/26/2016 2:53']\n",
      "\n",
      "\n",
      "['12578522', 'Ask HN: How do you pass on your work when you die?', '', '6', '3', 'PascLeRasc', '9/26/2016 1:17']\n",
      "\n",
      "\n",
      "['12577870', 'Ask HN: Why join a fund when you can be an angel?', '', '1', '3', 'anthony_james', '9/25/2016 22:48']\n",
      "\n",
      "\n",
      "['12577647', 'Ask HN: Someone uses stock trading as passive income?', '', '5', '2', '00taffe', '9/25/2016 21:50']\n",
      "\n",
      "\n",
      "['12576946', 'Ask HN: How hard would it be to make a cheap, hackable phone?', '', '2', '1', 'hkt', '9/25/2016 19:30']\n",
      "\n",
      "\n",
      "Number of rows: 6899\n",
      "Number of columns: 7\n"
     ]
    }
   ],
   "source": [
    "# Example of posts that start with \"Ask HN\"\n",
    "print(hn_header)\n",
    "print('\\n')\n",
    "explore_data(ask_posts, 0, 5)"
   ]
  },
  {
   "cell_type": "code",
   "execution_count": 344,
   "metadata": {},
   "outputs": [
    {
     "name": "stdout",
     "output_type": "stream",
     "text": [
      "['id', 'title', 'url', 'num_points', 'num_comments', 'author', 'created_at']\n",
      "\n",
      "\n",
      "['12577142', 'Show HN: Jumble  Essays on the go #PaulInYourPocket', 'https://itunes.apple.com/us/app/jumble-find-startup-essay/id1150939197?ls=1&mt=8', '1', '1', 'ryderj', '9/25/2016 20:06']\n",
      "\n",
      "\n",
      "['12576813', 'Show HN: Learn Japanese Vocab via multiple choice questions', 'http://japanese.vul.io/', '1', '1', 'soulchild37', '9/25/2016 19:06']\n",
      "\n",
      "\n",
      "['12576090', 'Show HN: Markov chain Twitter bot. Trained on comments left on Pornhub', 'https://twitter.com/botsonasty', '3', '1', 'keepingscore', '9/25/2016 16:50']\n",
      "\n",
      "\n",
      "['12575471', 'Show HN: Project-Okot: Novel, CODE-FREE data-apps in mere seconds', 'https://studio.nuchwezi.com/', '3', '1', 'nfixx', '9/25/2016 14:30']\n",
      "\n",
      "\n",
      "['12574773', 'Show HN: Cursor that Screenshot', 'http://edward.codes/cursor-that-screenshot', '3', '3', 'ed-bit', '9/25/2016 10:50']\n",
      "\n",
      "\n",
      "Number of rows: 5052\n",
      "Number of columns: 7\n"
     ]
    }
   ],
   "source": [
    "# Example of posts that start with \"Show HN\"\n",
    "print(hn_header)\n",
    "print('\\n')\n",
    "explore_data(show_posts, 0, 5)"
   ]
  },
  {
   "cell_type": "code",
   "execution_count": 345,
   "metadata": {},
   "outputs": [
    {
     "name": "stdout",
     "output_type": "stream",
     "text": [
      "['id', 'title', 'url', 'num_points', 'num_comments', 'author', 'created_at']\n",
      "\n",
      "\n",
      "['12578975', 'Saving the Hassle of Shopping', 'https://blog.menswr.com/2016/09/07/whats-new-with-your-style-feed/', '1', '1', 'bdoux', '9/26/2016 3:13']\n",
      "\n",
      "\n",
      "['12578822', 'Amazons Algorithms Dont Find You the Best Deals', 'https://www.technologyreview.com/s/602442/amazons-algorithms-dont-find-you-the-best-deals/', '1', '1', 'yarapavan', '9/26/2016 2:26']\n",
      "\n",
      "\n",
      "['12578694', 'Emergency dose of epinephrine that does not cost an arm and a leg', 'http://m.imgur.com/gallery/th6Ua', '2', '1', 'dredmorbius', '9/26/2016 1:54']\n",
      "\n",
      "\n",
      "['12578624', 'Phone Makers Could Cut Off Drivers. So Why Dont They?', 'http://www.nytimes.com/2016/09/25/technology/phone-makers-could-cut-off-drivers-so-why-dont-they.html', '4', '1', 'danso', '9/26/2016 1:37']\n",
      "\n",
      "\n",
      "['12578556', 'OpenMW, Open Source Elderscrolls III: Morrowind Reimplementation', 'https://openmw.org/en/', '32', '3', 'rocky1138', '9/26/2016 1:24']\n",
      "\n",
      "\n",
      "Number of rows: 68450\n",
      "Number of columns: 7\n"
     ]
    }
   ],
   "source": [
    "# Example of posts that start with \"Other\"\n",
    "print(hn_header)\n",
    "print('\\n')\n",
    "explore_data(other_posts, 0, 5)"
   ]
  },
  {
   "cell_type": "markdown",
   "metadata": {},
   "source": [
    "##### Data cleaning summary\n",
    "\n",
    "After removing rows with no user comments, we are left with a total of 80,401 posts.  From those, we can see that we have 6899 posts that start with \"Ask HN\", 5052 posts that start with \"Show HN\" and almost 68,4500 posts that start with neither string.\n",
    "\n",
    "We'll use the posts with \"Ask HN' and \"Show HN\" for our analysis."
   ]
  },
  {
   "cell_type": "markdown",
   "metadata": {},
   "source": [
    "---"
   ]
  },
  {
   "cell_type": "markdown",
   "metadata": {},
   "source": [
    "## Analysis"
   ]
  },
  {
   "cell_type": "markdown",
   "metadata": {},
   "source": [
    "#### 1. Do Ask HN or Show HN receive more comments on average?"
   ]
  },
  {
   "cell_type": "code",
   "execution_count": 351,
   "metadata": {},
   "outputs": [
    {
     "data": {
      "text/plain": [
       "94930"
      ]
     },
     "execution_count": 351,
     "metadata": {},
     "output_type": "execute_result"
    }
   ],
   "source": [
    "# Let's calculate the average number of comments for each type of post\n",
    "\n",
    "# Ask HN posts\n",
    "ask_comments = []\n",
    "for row in ask_posts:\n",
    "    comments = row[4]\n",
    "    ask_comments.append(int(comments))\n",
    "\n",
    "# Example of comments numbers\n",
    "ask_comments[0:5]\n",
    "\n",
    "# Calculating the total number of comments for Ask posts\n",
    "tot_ask_comments = sum(ask_comments)\n",
    "tot_ask_comments"
   ]
  },
  {
   "cell_type": "code",
   "execution_count": 352,
   "metadata": {},
   "outputs": [
    {
     "data": {
      "text/plain": [
       "49617"
      ]
     },
     "execution_count": 352,
     "metadata": {},
     "output_type": "execute_result"
    }
   ],
   "source": [
    "# Show HN posts\n",
    "show_comments = []\n",
    "for row in show_posts:\n",
    "    comments = row[4]\n",
    "    show_comments.append(int(comments))\n",
    "\n",
    "# Example of comments numbers\n",
    "show_comments[0:5]\n",
    "\n",
    "# Calculating the total number of comments for Ask posts\n",
    "tot_show_comments = sum(show_comments)\n",
    "tot_show_comments"
   ]
  },
  {
   "cell_type": "code",
   "execution_count": 353,
   "metadata": {},
   "outputs": [],
   "source": [
    "# Calculating the average number of comments for each type of post\n",
    "\n",
    "# Ask posts\n",
    "avg_ask_comments = tot_ask_comments / len(ask_posts)\n",
    "\n",
    "# Show posts\n",
    "avg_show_comments = tot_show_comments / len(show_posts)"
   ]
  },
  {
   "cell_type": "code",
   "execution_count": 354,
   "metadata": {},
   "outputs": [
    {
     "name": "stdout",
     "output_type": "stream",
     "text": [
      "Average number of comments for \"Ask HN\" posts: 14\n",
      "Average number of comments for \"Show HN\" posts: 10\n"
     ]
    }
   ],
   "source": [
    "print(f'Average number of comments for \"Ask HN\" posts: {round(avg_ask_comments)}')\n",
    "print(f'Average number of comments for \"Show HN\" posts: {round(avg_show_comments)}')"
   ]
  },
  {
   "cell_type": "code",
   "execution_count": 355,
   "metadata": {
    "scrolled": true
   },
   "outputs": [
    {
     "data": {
      "image/png": "[encoded data removed]",
      "text/plain": [
       "<Figure size 432x288 with 1 Axes>"
      ]
     },
     "metadata": {
      "needs_background": "light"
     },
     "output_type": "display_data"
    }
   ],
   "source": [
    "objects = ('Ask HN', 'Show HN')\n",
    "x_pos = [i for i, _ in enumerate(objects)]\n",
    "avg_comments = [round(avg_ask_comments), round(avg_show_comments)]\n",
    "\n",
    "comment_plot = plt.bar(x_pos, avg_comments, align='center', alpha=0.5, color='green')\n",
    "plt.xticks(x_pos, objects)\n",
    "plt.ylabel('Average number of comments')\n",
    "plt.title(\"Average Number of Comments per Post Type\")\n",
    "plt.ylim(0, 16)\n",
    "\n",
    "# Make some labels.\n",
    "def autolabel(rects):\n",
    "    for rect in rects:\n",
    "        height = rect.get_height()\n",
    "        if height > 0:\n",
    "            label_position = height - 1.5\n",
    "        else:\n",
    "            label_position = -8\n",
    "        plt.text(rect.get_x() + rect.get_width()/2., label_position,\n",
    "                '%d' % int(height)+'',color='black',\n",
    "                ha='center', va='bottom', fontweight='bold', fontsize='11')\n",
    "\n",
    "autolabel(comment_plot)\n",
    "        \n",
    "plt.show()"
   ]
  },
  {
   "cell_type": "markdown",
   "metadata": {},
   "source": [
    "### Results\n",
    "\n",
    "###### On average, \"Ask HN\" type posts receive a higher number of user comments than \"Show HN\" posts."
   ]
  },
  {
   "cell_type": "markdown",
   "metadata": {},
   "source": [
    "---"
   ]
  },
  {
   "cell_type": "markdown",
   "metadata": {},
   "source": [
    "#### 2. Do posts created at a certain time receive more comments on average? If so, which times are most popular?"
   ]
  },
  {
   "cell_type": "code",
   "execution_count": 356,
   "metadata": {},
   "outputs": [
    {
     "name": "stdout",
     "output_type": "stream",
     "text": [
      "{'02': 2996, '01': 2089, '22': 3369, '21': 4500, '19': 3954, '17': 5547, '15': 18525, '14': 4970, '13': 7227, '11': 2794, '10': 3013, '09': 1477, '07': 1584, '03': 2153, '16': 4461, '08': 2362, '00': 2265, '23': 2297, '20': 4462, '18': 4868, '12': 4234, '04': 2358, '06': 1587, '05': 1838}\n",
      "{'02': 227, '01': 223, '22': 286, '21': 407, '19': 420, '17': 404, '15': 467, '14': 377, '13': 324, '11': 250, '10': 219, '09': 176, '07': 156, '03': 211, '16': 414, '08': 190, '00': 229, '23': 276, '20': 392, '18': 451, '12': 274, '04': 185, '06': 176, '05': 165}\n",
      "{'20': 2183, '19': 2791, '16': 3769, '14': 3839, '10': 1228, '09': 1411, '06': 904, '03': 934, '18': 3242, '17': 3228, '15': 3823, '11': 2413, '13': 3314, '01': 1006, '22': 1450, '12': 3609, '08': 1770, '04': 978, '00': 1283, '21': 1759, '05': 591, '23': 1443, '07': 1573, '02': 1076}\n",
      "{'20': 246, '19': 270, '16': 389, '14': 331, '10': 156, '09': 158, '06': 95, '03': 97, '18': 311, '17': 368, '15': 391, '11': 228, '13': 334, '01': 135, '22': 192, '12': 300, '08': 159, '04': 90, '00': 141, '21': 209, '05': 75, '23': 147, '07': 126, '02': 104}\n"
     ]
    }
   ],
   "source": [
    "# We're interested in the 'created_at' column\n",
    "\n",
    "import datetime as datetime\n",
    "\n",
    "# Let's create a frequency table with the hour of the comment as key and the total number of comments as value\n",
    "\n",
    "# Ask posts\n",
    "# Iterating through each row in the data\n",
    "ask_hour_comment = {}\n",
    "ask_post_by_hour = {}\n",
    "\n",
    "for row in ask_posts:\n",
    "    date = row[-1]\n",
    "    hour = datetime.datetime.strptime(date, \"%m/%d/%Y %H:%M\").strftime(\"%H\")\n",
    "    comments = int(row[-3])\n",
    "    post = row[1]\n",
    "    \n",
    "    if hour in ask_hour_comment:\n",
    "        ask_hour_comment[hour] += comments\n",
    "        ask_post_by_hour[hour] += 1 \n",
    "    else:\n",
    "        ask_hour_comment[hour] = comments\n",
    "        ask_post_by_hour[hour] = 1 \n",
    "        \n",
    "print(ask_hour_comment) \n",
    "print(ask_post_by_hour)\n",
    "\n",
    "# Show posts\n",
    "# Iterating through each row in the data\n",
    "show_hour_comment = {}\n",
    "show_post_by_hour = {}\n",
    "\n",
    "for row in show_posts:\n",
    "    date = row[-1]\n",
    "    hour = datetime.datetime.strptime(date, \"%m/%d/%Y %H:%M\").strftime(\"%H\")\n",
    "    comments = int(row[-3])\n",
    "    post = row[1]\n",
    "    \n",
    "    if hour in show_hour_comment:\n",
    "        show_hour_comment[hour] += comments\n",
    "        show_post_by_hour[hour] += 1 \n",
    "    else:\n",
    "        show_hour_comment[hour] = comments\n",
    "        show_post_by_hour[hour] = 1 \n",
    "        \n",
    "print(show_hour_comment) \n",
    "print(show_post_by_hour)"
   ]
  },
  {
   "cell_type": "code",
   "execution_count": 357,
   "metadata": {},
   "outputs": [],
   "source": [
    "# Above, we generated frequency tables by the hour of the day to contain for each hour:\n",
    "    # 1. Total number of comments\n",
    "    # 2. Total number of posts\n",
    "# We can now calculate the average number comments per post for each hour each \n",
    "\n",
    "# Isolating hours as a list\n",
    "hours = []\n",
    "\n",
    "for key in ask_hour_comment:\n",
    "    hours.append(key)\n",
    "\n",
    "# Calculating the average number of comments for each post by dividing the total number of comments by the total number of posts\n",
    "# Storing the averages as lists\n",
    "avg_ask_comments_by_hour = []\n",
    "avg_show_comments_by_hour = []\n",
    "\n",
    "for i in range(len(hours)):\n",
    "    avg_ask = (ask_hour_comment[hours[i]] / ask_post_by_hour[hours[i]])\n",
    "    avg_ask_comments_by_hour.append(avg_ask)\n",
    "    \n",
    "    avg_show = (show_hour_comment[hours[i]] / show_post_by_hour[hours[i]])\n",
    "    avg_show_comments_by_hour.append(avg_show)\n",
    "    \n",
    "    "
   ]
  },
  {
   "cell_type": "code",
   "execution_count": 358,
   "metadata": {},
   "outputs": [
    {
     "name": "stdout",
     "output_type": "stream",
     "text": [
      "[13.198237885462555, 9.367713004484305, 11.77972027972028, 11.056511056511056, 9.414285714285715, 13.73019801980198, 39.66809421841542, 13.183023872679046, 22.305555555555557, 11.176, 13.757990867579908, 8.392045454545455, 10.153846153846153, 10.203791469194313, 10.77536231884058, 12.43157894736842, 9.890829694323145, 8.322463768115941, 11.38265306122449, 10.793791574279378, 15.452554744525548, 12.745945945945946, 9.017045454545455, 11.139393939393939]\n",
      "\n",
      "\n",
      "[10.346153846153847, 7.451851851851852, 7.552083333333333, 8.416267942583731, 10.337037037037037, 8.771739130434783, 9.777493606138107, 11.598187311178247, 9.922155688622755, 10.583333333333334, 7.871794871794871, 8.930379746835444, 12.484126984126984, 9.628865979381443, 9.688946015424165, 11.132075471698114, 9.099290780141844, 9.816326530612244, 8.873983739837398, 10.42443729903537, 12.03, 10.866666666666667, 9.51578947368421, 7.88]\n"
     ]
    }
   ],
   "source": [
    "print(avg_ask_comments_by_hour)\n",
    "print('\\n')\n",
    "print(avg_show_comments_by_hour)"
   ]
  },
  {
   "cell_type": "code",
   "execution_count": 359,
   "metadata": {},
   "outputs": [],
   "source": [
    "import operator\n",
    "\n",
    "# Creating new dictionaris containing the final analysis and sorting the final results\n",
    "\n",
    "# Ask results\n",
    "ask_results = dict(zip(hours, avg_ask_comments_by_hour))\n",
    "\n",
    "# Show results\n",
    "show_results = dict(zip(hours, avg_show_comments_by_hour))"
   ]
  },
  {
   "cell_type": "code",
   "execution_count": 360,
   "metadata": {},
   "outputs": [
    {
     "data": {
      "text/plain": [
       "[('15', 39.66809421841542),\n",
       " ('13', 22.305555555555557),\n",
       " ('12', 15.452554744525548),\n",
       " ('10', 13.757990867579908),\n",
       " ('17', 13.73019801980198),\n",
       " ('02', 13.198237885462555),\n",
       " ('14', 13.183023872679046),\n",
       " ('04', 12.745945945945946),\n",
       " ('08', 12.43157894736842),\n",
       " ('22', 11.77972027972028),\n",
       " ('20', 11.38265306122449),\n",
       " ('11', 11.176),\n",
       " ('05', 11.139393939393939),\n",
       " ('21', 11.056511056511056),\n",
       " ('18', 10.793791574279378),\n",
       " ('16', 10.77536231884058),\n",
       " ('03', 10.203791469194313),\n",
       " ('07', 10.153846153846153),\n",
       " ('00', 9.890829694323145),\n",
       " ('19', 9.414285714285715),\n",
       " ('01', 9.367713004484305),\n",
       " ('06', 9.017045454545455),\n",
       " ('09', 8.392045454545455),\n",
       " ('23', 8.322463768115941)]"
      ]
     },
     "execution_count": 360,
     "metadata": {},
     "output_type": "execute_result"
    }
   ],
   "source": [
    "# Sorting  Ask results by hour\n",
    "sorted_ask_results_hr = sorted(ask_results.items(), key=operator.itemgetter(0))\n",
    "sorted_ask_results_hr\n",
    "\n",
    "# Sorting Ask results by avg\n",
    "sorted_ask_results = sorted(ask_results.items(), key=operator.itemgetter(1), reverse=True)\n",
    "sorted_ask_results"
   ]
  },
  {
   "cell_type": "code",
   "execution_count": 361,
   "metadata": {},
   "outputs": [
    {
     "data": {
      "text/plain": [
       "[('07', 12.484126984126984),\n",
       " ('12', 12.03),\n",
       " ('14', 11.598187311178247),\n",
       " ('08', 11.132075471698114),\n",
       " ('04', 10.866666666666667),\n",
       " ('11', 10.583333333333334),\n",
       " ('18', 10.42443729903537),\n",
       " ('02', 10.346153846153847),\n",
       " ('19', 10.337037037037037),\n",
       " ('13', 9.922155688622755),\n",
       " ('23', 9.816326530612244),\n",
       " ('15', 9.777493606138107),\n",
       " ('16', 9.688946015424165),\n",
       " ('03', 9.628865979381443),\n",
       " ('06', 9.51578947368421),\n",
       " ('00', 9.099290780141844),\n",
       " ('09', 8.930379746835444),\n",
       " ('20', 8.873983739837398),\n",
       " ('17', 8.771739130434783),\n",
       " ('21', 8.416267942583731),\n",
       " ('05', 7.88),\n",
       " ('10', 7.871794871794871),\n",
       " ('22', 7.552083333333333),\n",
       " ('01', 7.451851851851852)]"
      ]
     },
     "execution_count": 361,
     "metadata": {},
     "output_type": "execute_result"
    }
   ],
   "source": [
    "# Sorting  Show results by hour\n",
    "sorted_show_results_hr = sorted(show_results.items(), key=operator.itemgetter(0))\n",
    "sorted_show_results_hr\n",
    "\n",
    "# Sorting Show results by avg\n",
    "sorted_show_results = sorted(show_results.items(), key=operator.itemgetter(1), reverse=True)\n",
    "sorted_show_results"
   ]
  },
  {
   "cell_type": "code",
   "execution_count": 362,
   "metadata": {},
   "outputs": [
    {
     "data": {
      "image/png": "[encoded data removed]",
      "text/plain": [
       "<Figure size 432x288 with 1 Axes>"
      ]
     },
     "metadata": {
      "needs_background": "light"
     },
     "output_type": "display_data"
    }
   ],
   "source": [
    "# Plotting the final results as a grouped table\n",
    "fig, ax = plt.subplots()\n",
    "\n",
    "ask_values = [sorted_ask_results_hr[x][1] for x in range(len(sorted_show_results_hr))]\n",
    "show_values = [sorted_show_results_hr[x][1] for x in range(len(sorted_show_results_hr))]\n",
    "\n",
    "ind = np.arange(len(sorted_ask_results_hr))    # the x locations for the groups\n",
    "width = 0.35         # the width of the bars\n",
    "\n",
    "p1 = ax.bar(ind, ask_values, width, bottom=0)\n",
    "p2 = ax.bar(ind + width, show_values, width, bottom=0)\n",
    "\n",
    "ax.set_title('Average Number of Comments')\n",
    "plt.ylabel('Average number of comments')\n",
    "plt.xlabel('Hour of Day (24H format)')\n",
    "\n",
    "ax.set_xticks(ind)\n",
    "ax.tick_params(axis=\"x\", labelsize=8)\n",
    "\n",
    "ax.legend((p1[0], p2[0]), ('Ask HN', 'Show HN'))\n",
    "\n",
    "ax.autoscale_view()\n",
    "\n",
    "plt.show()"
   ]
  },
  {
   "cell_type": "markdown",
   "metadata": {},
   "source": [
    "---"
   ]
  },
  {
   "cell_type": "markdown",
   "metadata": {},
   "source": [
    "### Conclusions\n",
    "\n",
    "**In this project, we analyzed 'Ask HN' and 'Show HN' posts to determine which type of post and time receive the most comments on average. We found that overall, 'Ask HN' posts receive on average 40% more comments from users than 'Show HN' posts -- 14 vs 10 comments, respectively.**\n",
    "\n",
    "**Moreover, we found that 'Ask HN' posts created between 15:00 and 16:00 (3:00-4:00pm EST) receive significantly more comments than other times. Comments for 'Show HN' did not show a discernible pattern, but we noted that posts posted between 7:00 and 8:00 (7:00-8:00am EST), received slighly more comments than other times.**\n",
    " \n",
    " ---\n",
    "**Note**:\n",
    "*The dataset we analyzed excluded posts without comments and these conclusions only to those."
   ]
  },
  {
   "cell_type": "code",
   "execution_count": null,
   "metadata": {},
   "outputs": [],
   "source": []
  }
 ],
 "metadata": {
  "kernelspec": {
   "display_name": "Python 3",
   "language": "python",
   "name": "python3"
  },
  "language_info": {
   "codemirror_mode": {
    "name": "ipython",
    "version": 3
   },
   "file_extension": ".py",
   "mimetype": "text/x-python",
   "name": "python",
   "nbconvert_exporter": "python",
   "pygments_lexer": "ipython3",
   "version": "3.7.1"
  }
 },
 "nbformat": 4,
 "nbformat_minor": 2
}
